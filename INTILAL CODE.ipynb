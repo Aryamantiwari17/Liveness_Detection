{
 "cells": [
  {
   "cell_type": "code",
   "execution_count": 1,
   "metadata": {},
   "outputs": [],
   "source": [
    "import cv2 as cv\n",
    "import numpy as np\n",
    "import pandas as pd\n",
    "import seaborn as sns\n"
   ]
  },
  {
   "cell_type": "code",
   "execution_count": 13,
   "metadata": {},
   "outputs": [
    {
     "data": {
      "text/plain": [
       "-1"
      ]
     },
     "execution_count": 13,
     "metadata": {},
     "output_type": "execute_result"
    }
   ],
   "source": [
    "img = cv.imread(r\"C:\\Users\\ARYAMAN TIWARI\\Pictures\\Camera Roll\\Hii.jpg\")\n",
    "cv.imshow(\"Hii\",img)\n",
    "cv.waitKey(0)\n",
    "blank=np.zeros(img.shape[:2],dtype=\"uint8\")\n",
    "cv.imshow(\"blank img\",blank)\n",
    "mask=cv.circle(blank,(img.shape[1]//2,img.shape[0]//2),550,500,-1)\n",
    "cv.imshow(\"masking\",mask)\n",
    "masked=cv.bitwise_and(img,img,mask=mask)\n",
    "cv.imshow(\"Masking\",masked)\n",
    "cv.waitKey(0)\n"
   ]
  },
  {
   "cell_type": "code",
   "execution_count": 3,
   "metadata": {},
   "outputs": [
    {
     "data": {
      "text/plain": [
       "-1"
      ]
     },
     "execution_count": 3,
     "metadata": {},
     "output_type": "execute_result"
    }
   ],
   "source": [
    "#essential function of it\n",
    "#WE CONVERTING INTO GRAY SCALE:\n",
    "img = cv.imread(r\"C:\\Users\\ARYAMAN TIWARI\\Dropbox\\PC\\Desktop\\pp2 file\\hj.jfif\")\n",
    "cv.imshow(\"hfj\", img)\n",
    "\n",
    "gray=cv.cvtColor(img,cv.COLOR_BGR2GRAY)\n",
    "cv.imshow('Gray',gray)\n",
    "cv.waitKey(0)\n"
   ]
  },
  {
   "cell_type": "code",
   "execution_count": null,
   "metadata": {},
   "outputs": [
    {
     "data": {
      "text/plain": [
       "-1"
      ]
     },
     "execution_count": 14,
     "metadata": {},
     "output_type": "execute_result"
    }
   ],
   "source": [
    "# blurring imaging\n",
    "img = cv.imread(r\"C:\\Users\\ARYAMAN TIWARI\\Dropbox\\PC\\Desktop\\pp2 file\\hj.jfif\")\n",
    "cv.imshow(\"hfj\", img)\n",
    "blur = cv.GaussianBlur(img, (7, 7), cv.BORDER_DEFAULT)  # (3,3) kenel size\n",
    "cv.imshow('Blur', blur)\n",
    "cv.waitKey(0)\n"
   ]
  },
  {
   "cell_type": "code",
   "execution_count": 4,
   "metadata": {},
   "outputs": [
    {
     "data": {
      "text/plain": [
       "-1"
      ]
     },
     "execution_count": 4,
     "metadata": {},
     "output_type": "execute_result"
    }
   ],
   "source": [
    "#edge Cascade\n",
    "canny=cv.Canny(img,125,175)\n",
    "cv.imshow('canny edege',canny)\n",
    "cv.waitKey(0)"
   ]
  },
  {
   "cell_type": "code",
   "execution_count": null,
   "metadata": {},
   "outputs": [
    {
     "data": {
      "text/plain": [
       "-1"
      ]
     },
     "execution_count": 6,
     "metadata": {},
     "output_type": "execute_result"
    }
   ],
   "source": [
    "#dilating the image\n",
    "dilated=cv.dilate(canny,(3,3),iterations =1)\n",
    "cv.imshow(\"Dilated\",dilated)\n",
    "# Dilation adds pixels to the boundaries of objects in an image, \n",
    "# while erosion removes pixels on object boundaries\n",
    "# erosion\n",
    "eroded = cv.erode(dilated, (3, 3), iterations=1)\n",
    "cv.imshow('Eroded', eroded)\n",
    "cv.waitKey(0)\n"
   ]
  },
  {
   "cell_type": "code",
   "execution_count": null,
   "metadata": {},
   "outputs": [
    {
     "data": {
      "text/plain": [
       "-1"
      ]
     },
     "execution_count": 7,
     "metadata": {},
     "output_type": "execute_result"
    }
   ],
   "source": [
    "#erosion\n",
    "eroded=cv.erode(dilated,(3,3),iterations=1)\n",
    "cv.imshow('Eroded',eroded)\n",
    "cv.waitKey(0)\n"
   ]
  },
  {
   "cell_type": "code",
   "execution_count": 3,
   "metadata": {},
   "outputs": [
    {
     "data": {
      "text/plain": [
       "-1"
      ]
     },
     "execution_count": 3,
     "metadata": {},
     "output_type": "execute_result"
    }
   ],
   "source": [
    "#resize\n",
    "resized=cv.resize(img,(500,500),interpolation=cv.INTER_LINEAR)\n",
    "cv.imshow(\"Reized\",resized)\n",
    "cv.waitKey(0)"
   ]
  },
  {
   "cell_type": "code",
   "execution_count": 4,
   "metadata": {},
   "outputs": [
    {
     "data": {
      "text/plain": [
       "-1"
      ]
     },
     "execution_count": 4,
     "metadata": {},
     "output_type": "execute_result"
    }
   ],
   "source": [
    "#CROPPING\n",
    "cropped=img[50:200,200:400]\n",
    "cv.imshow(\"Cropped\",cropped)\n",
    "cv.waitKey(0)\n"
   ]
  },
  {
   "cell_type": "code",
   "execution_count": 5,
   "metadata": {},
   "outputs": [
    {
     "name": "stdout",
     "output_type": "stream",
     "text": [
      "230contour(s)found!\n"
     ]
    },
    {
     "data": {
      "text/plain": [
       "-1"
      ]
     },
     "execution_count": 5,
     "metadata": {},
     "output_type": "execute_result"
    }
   ],
   "source": [
    "# contour detection-\n",
    "#attempts to extract curves which represent object shapes from images.\n",
    "canny=cv.Canny(img,125,175)\n",
    "cv.imshow(\"canny egdges\",canny)\n",
    "\n",
    "contours,heirachries=cv.findContours(canny,cv.RETR_LIST,cv.CHAIN_APPROX_SIMPLE)\n",
    "print(f'{len(contours)}contour(s)found!')\n",
    "#230 objects in this image\n",
    "cv.waitKey(0)\n"
   ]
  },
  {
   "cell_type": "code",
   "execution_count": 6,
   "metadata": {},
   "outputs": [
    {
     "data": {
      "text/plain": [
       "-1"
      ]
     },
     "execution_count": 6,
     "metadata": {},
     "output_type": "execute_result"
    }
   ],
   "source": [
    "blank=np.zeros(img.shape[:2],dtype=\"uint8\")\n",
    "cv.imshow(\"Gray\", gray)\n",
    "cv.waitKey(0)"
   ]
  },
  {
   "cell_type": "code",
   "execution_count": 1,
   "metadata": {},
   "outputs": [
    {
     "ename": "NameError",
     "evalue": "name 'cv' is not defined",
     "output_type": "error",
     "traceback": [
      "\u001b[1;31m---------------------------------------------------------------------------\u001b[0m",
      "\u001b[1;31mNameError\u001b[0m                                 Traceback (most recent call last)",
      "\u001b[1;32mc:\\Users\\ARYAMAN TIWARI\\Dropbox\\PC\\Desktop\\Internship_1\\INTILAL CODE.ipynb Cell 12\u001b[0m line \u001b[0;36m1\n\u001b[1;32m----> <a href='vscode-notebook-cell:/c%3A/Users/ARYAMAN%20TIWARI/Dropbox/PC/Desktop/Internship_1/INTILAL%20CODE.ipynb#X14sZmlsZQ%3D%3D?line=0'>1</a>\u001b[0m ret, thresh \u001b[39m=\u001b[39m cv\u001b[39m.\u001b[39mthreshold(gray, \u001b[39m125\u001b[39m, \u001b[39m255\u001b[39m, cv\u001b[39m.\u001b[39mTHRESH_BINARY)\n\u001b[0;32m      <a href='vscode-notebook-cell:/c%3A/Users/ARYAMAN%20TIWARI/Dropbox/PC/Desktop/Internship_1/INTILAL%20CODE.ipynb#X14sZmlsZQ%3D%3D?line=1'>2</a>\u001b[0m cv\u001b[39m.\u001b[39mimshow(\u001b[39m\"\u001b[39m\u001b[39mThresh\u001b[39m\u001b[39m\"\u001b[39m,thresh)\n\u001b[0;32m      <a href='vscode-notebook-cell:/c%3A/Users/ARYAMAN%20TIWARI/Dropbox/PC/Desktop/Internship_1/INTILAL%20CODE.ipynb#X14sZmlsZQ%3D%3D?line=2'>3</a>\u001b[0m contours, heirachries \u001b[39m=\u001b[39m cv\u001b[39m.\u001b[39mfindContours(thresh, cv\u001b[39m.\u001b[39mRETR_LIST, cv\u001b[39m.\u001b[39mCHAIN_APPROX_SIMPLE)\n",
      "\u001b[1;31mNameError\u001b[0m: name 'cv' is not defined"
     ]
    }
   ],
   "source": [
    "ret, thresh = cv.threshold(gray, 125, 255, cv.THRESH_BINARY)\n",
    "cv.imshow(\"Thresh\",thresh)\n",
    "contours, heirachries = cv.findContours(thresh, cv.RETR_LIST, cv.CHAIN_APPROX_SIMPLE)\n",
    "print(f'{len(contours)}contour(s)found!')\n",
    "# 230 objects in this image\n",
    "cv.drawContours(blank,contours,-1,(0,0,255),2)\n",
    "cv.imshow(\"contour drawn\",blank)\n",
    "cv.waitKey(0)\n",
    "#THERSHOLD"
   ]
  },
  {
   "cell_type": "code",
   "execution_count": null,
   "metadata": {},
   "outputs": [
    {
     "data": {
      "text/plain": [
       "-1"
      ]
     },
     "execution_count": 14,
     "metadata": {},
     "output_type": "execute_result"
    }
   ],
   "source": [
    "img = cv.imread(r\"C:\\Users\\ARYAMAN TIWARI\\Pictures\\Camera Roll\\Hii.jpg\")\n",
    "cv.imshow(\"Hii\", img)\n",
    "cv.waitKey(0)\n",
    "blank = np.zeros(img.shape[:2], dtype=\"uint8\")\n",
    "cv.imshow(\"blank img\", blank)\n",
    "mask = cv.circle(blank, (img.shape[1]//2, img.shape[0]//2), 550, 500, -1)\n",
    "cv.imshow(\"masking\", mask)\n",
    "masked = cv.bitwise_and(img, img, mask=mask)\n",
    "cv.imshow(\"Masking\", masked)\n",
    "cv.waitKey(0)\n"
   ]
  },
  {
   "cell_type": "code",
   "execution_count": 6,
   "metadata": {},
   "outputs": [
    {
     "name": "stdout",
     "output_type": "stream",
     "text": [
      "Number of faces found = 1\n"
     ]
    },
    {
     "data": {
      "text/plain": [
       "-1"
      ]
     },
     "execution_count": 6,
     "metadata": {},
     "output_type": "execute_result"
    }
   ],
   "source": [
    "#face detect\n",
    "import cv2 as cv\n",
    "import numpy as np\n",
    "import pandas as pd\n",
    "import seaborn as sns\n",
    "import cv2 as cv\n",
    "\n",
    "img = cv.imread(r\"C:\\Users\\ARYAMAN TIWARI\\Pictures\\Camera Roll\\Hii.jpg\")\n",
    "cv.imshow(\"Hii\", img)\n",
    "gray = cv.cvtColor(img, cv.COLOR_BGR2GRAY)\n",
    "cv.imshow(\"Gray img\", gray)\n",
    "\n",
    "# Load the Haar Cascade classifier for face detection\n",
    "haar_cascade = cv.CascadeClassifier(\"haar_face.xml\")\n",
    "# Detect faces with adjusted parameters\n",
    "faces_rect = haar_cascade.detectMultiScale(\n",
    "    gray, scaleFactor=1.3, minNeighbors=5)\n",
    "\n",
    "print(f'Number of faces found = {len(faces_rect)}')\n",
    "\n",
    "for (x, y, w, h) in faces_rect:\n",
    "    cv.rectangle(img, (x, y), (x + w, y + h), (0, 255, 0), thickness=2)\n",
    "\n",
    "cv.imshow(\"Detected Faces\", img)\n",
    "cv.waitKey(0)\n"
   ]
  },
  {
   "cell_type": "code",
   "execution_count": 7,
   "metadata": {},
   "outputs": [
    {
     "name": "stdout",
     "output_type": "stream",
     "text": [
      "Number of faces found = 2\n"
     ]
    },
    {
     "data": {
      "text/plain": [
       "-1"
      ]
     },
     "execution_count": 7,
     "metadata": {},
     "output_type": "execute_result"
    }
   ],
   "source": [
    "#faced detect\n",
    "import cv2 as cv\n",
    "\n",
    "img = cv.imread(r\"C:\\Users\\ARYAMAN TIWARI\\Pictures\\Camera\\Less go.jpg\")\n",
    "\n",
    "# Resize the image to your desired dimensions\n",
    "desired_width = 800  # Change this to your preferred width\n",
    "desired_height = 600  # Change this to your preferred height\n",
    "\n",
    "img = cv.resize(img, (desired_width, desired_height))\n",
    "\n",
    "cv.imshow(\"Less go\", img)\n",
    "gray = cv.cvtColor(img, cv.COLOR_BGR2GRAY)\n",
    "cv.imshow(\"Gray img\", gray)\n",
    "\n",
    "# Load the Haar Cascade classifier for face detection\n",
    "haar_cascade = cv.CascadeClassifier(\"haar_face.xml\")\n",
    "\n",
    "# Detect faces with adjusted parameters\n",
    "faces_rect = haar_cascade.detectMultiScale(\n",
    "    gray, scaleFactor=1.3, minNeighbors=5)\n",
    "\n",
    "print(f'Number of faces found = {len(faces_rect)}')\n",
    "\n",
    "for (x, y, w, h) in faces_rect:\n",
    "    cv.rectangle(img, (x, y), (x + w, y + h), (0, 255, 0), thickness=2)\n",
    "\n",
    "cv.imshow(\"Detected Faces\", img)\n",
    "cv.waitKey(0)\n"
   ]
  },
  {
   "cell_type": "code",
   "execution_count": null,
   "metadata": {},
   "outputs": [],
   "source": [
    "import cv2 as cv\n",
    "\n",
    "# Load the Haar Cascade classifier for face detection\n",
    "haar_cascade = cv.CascadeClassifier(\"haar_face.xml\")\n",
    "\n",
    "# Open a connection to the computer's camera (usually the default camera)\n",
    "cap = cv.VideoCapture(0)\n",
    "\n",
    "while True:\n",
    "    # Read a frame from the camera\n",
    "    ret, frame = cap.read()\n",
    "\n",
    "    if not ret:\n",
    "        break\n",
    "\n",
    "    # Resize the frame to your desired dimensions\n",
    "    desired_width = 800\n",
    "    desired_height = 600\n",
    "    frame = cv.resize(frame, (desired_width, desired_height))\n",
    "\n",
    "    # Convert the frame to grayscale for face detection\n",
    "    gray = cv.cvtColor(frame, cv.COLOR_BGR2GRAY)\n",
    "\n",
    "    # Detect faces in the frame\n",
    "    faces_rect = haar_cascade.detectMultiScale(\n",
    "        gray, scaleFactor=1.3, minNeighbors=5)\n",
    "\n",
    "    for (x, y, w, h) in faces_rect:\n",
    "        cv.rectangle(frame, (x, y), (x + w, y + h), (0, 255, 0), thickness=2)\n",
    "\n",
    "    # Display the frame with detected faces\n",
    "    cv.imshow(\"Live Face Detection\", frame)\n",
    "\n",
    "    # Break the loop when the 'q' key is pressed\n",
    "    if cv.waitKey(1) & 0xFF == ord('q'):\n",
    "        break\n",
    "\n",
    "# Release the camera and close all OpenCV windows\n",
    "cap.release()\n",
    "cv.destroyAllWindows()\n"
   ]
  }
 ],
 "metadata": {
  "kernelspec": {
   "display_name": "librariesnew",
   "language": "python",
   "name": "python3"
  },
  "language_info": {
   "codemirror_mode": {
    "name": "ipython",
    "version": 3
   },
   "file_extension": ".py",
   "mimetype": "text/x-python",
   "name": "python",
   "nbconvert_exporter": "python",
   "pygments_lexer": "ipython3",
   "version": "3.10.9"
  },
  "orig_nbformat": 4
 },
 "nbformat": 4,
 "nbformat_minor": 2
}
